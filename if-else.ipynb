{
 "cells": [
  {
   "cell_type": "markdown",
   "id": "c0bc5e0e-f4ce-4a66-970d-56bc838e585f",
   "metadata": {},
   "source": [
    "#Q1 Write a program that takes an integer input from the user and checks whether the number is odd or even."
   ]
  },
  {
   "cell_type": "code",
   "execution_count": 5,
   "id": "0c6a3fc8-631b-412e-917a-0131ac33e99a",
   "metadata": {},
   "outputs": [
    {
     "name": "stdin",
     "output_type": "stream",
     "text": [
      "enter the number= 5\n"
     ]
    },
    {
     "name": "stdout",
     "output_type": "stream",
     "text": [
      "the number is odd:\n"
     ]
    }
   ],
   "source": [
    "number= int(input(\"enter the number=\"))\n",
    "if(number%2==0):\n",
    "  print(\"the number is even:\")\n",
    "else:\n",
    "  print(\"the number is odd:\")\n",
    "\n"
   ]
  },
  {
   "cell_type": "code",
   "execution_count": 62,
   "id": "69ac7125-aec8-44b8-94e7-ebbbe214e693",
   "metadata": {},
   "outputs": [],
   "source": [
    "#Q2 Write a program that takes three numbers as input and prints the largest of the three."
   ]
  },
  {
   "cell_type": "code",
   "execution_count": 16,
   "id": "8ed1d477-f266-453a-ad02-5d5a83b3496f",
   "metadata": {},
   "outputs": [
    {
     "name": "stdin",
     "output_type": "stream",
     "text": [
      "enter the first number(a): 12\n",
      "enter the second number(b): 5\n",
      "enter the third number(c): 14\n"
     ]
    },
    {
     "name": "stdout",
     "output_type": "stream",
     "text": [
      "c is largest\n"
     ]
    }
   ],
   "source": [
    "a =int(input(\"enter the first number(a):\" ))\n",
    "b=int(input(\"enter the second number(b):\"))\n",
    "c=int(input(\"enter the third number(c):\"))\n",
    "if(a>b and a>c):\n",
    "  print(\"a is largest\")\n",
    "elif(b>a and b>c):\n",
    "  print(\"b is largest\")\n",
    "else:\n",
    "  print (\"c is largest\")\n",
    "  "
   ]
  },
  {
   "cell_type": "code",
   "execution_count": 17,
   "id": "19194f12-e7de-4334-abb5-0334670646c5",
   "metadata": {},
   "outputs": [
    {
     "name": "stdin",
     "output_type": "stream",
     "text": [
      "enter the number= 25\n"
     ]
    },
    {
     "name": "stdout",
     "output_type": "stream",
     "text": [
      "the number is odd\n"
     ]
    }
   ],
   "source": [
    "number= int(input(\"enter the number=\"))\n",
    "if(number%2==0):\n",
    "  print(\"the number is even\")\n",
    "else:\n",
    "  print(\"the number is odd\")\n"
   ]
  },
  {
   "cell_type": "code",
   "execution_count": null,
   "id": "aa572ce0-8339-4765-bdf0-82f86d00714b",
   "metadata": {},
   "outputs": [],
   "source": [
    "# # Q3 Write a program to check if a given year is a leap year. A leap year is divisible by 4 but not by 100unless it is also divisible by 400."
   ]
  },
  {
   "cell_type": "code",
   "execution_count": 20,
   "id": "61ea63b1-a331-4646-b872-af6cc1910f32",
   "metadata": {},
   "outputs": [
    {
     "name": "stdin",
     "output_type": "stream",
     "text": [
      "enter your year: 2000\n"
     ]
    },
    {
     "name": "stdout",
     "output_type": "stream",
     "text": [
      "leap year: 2000.0\n"
     ]
    }
   ],
   "source": [
    "year=float(input(\"enter your year:\"))\n",
    "if (year%400==0 and year%100==0):\n",
    "    print(\"leap year:\",year)\n",
    "elif(year%4==0 ):\n",
    "    print(\"leeap yaer:\")\n",
    "else:\n",
    "    print(\"not\") "
   ]
  },
  {
   "cell_type": "code",
   "execution_count": null,
   "id": "94560773-d23b-4af7-8f9b-5680991dd8b4",
   "metadata": {},
   "outputs": [],
   "source": [
    "# Q3 Write a program to check if a given year is a leap year. A leap year is divisible by 4 but not by 100unless it is also divisible by 400."
   ]
  },
  {
   "cell_type": "code",
   "execution_count": 23,
   "id": "8243e255-cddb-4fa5-b420-be3947d9c563",
   "metadata": {},
   "outputs": [
    {
     "name": "stdin",
     "output_type": "stream",
     "text": [
      "enter the your year: 2020\n"
     ]
    },
    {
     "name": "stdout",
     "output_type": "stream",
     "text": [
      "leap\n"
     ]
    }
   ],
   "source": [
    "year=int(input(\"enter the your year:\"))\n",
    "if(year%400==0):\n",
    "    print(\"leap\")\n",
    "elif(year%100==0):\n",
    "    print(\"leap\")\n",
    "elif(year%4==0):\n",
    "    print(\"leap\")\n",
    "else:\n",
    "    print(\"not a leap year\")"
   ]
  },
  {
   "cell_type": "code",
   "execution_count": null,
   "id": "8435bd95-effa-402b-8b43-50dda2c671cf",
   "metadata": {},
   "outputs": [],
   "source": [
    "#Q4 Write a program that takes a percentage (integer) as input and prints the corresponding grade based\n",
    "on the following criteria:\n",
    ">= 90: Grade A\n",
    ">= 80: Grade B\n",
    ">= 70: Grade C\n",
    ">= 60: Grade D\n",
    "< 60: Grade F"
   ]
  },
  {
   "cell_type": "code",
   "execution_count": 25,
   "id": "c9b16edd-1dad-4623-bb38-a3f16531a70d",
   "metadata": {},
   "outputs": [
    {
     "name": "stdin",
     "output_type": "stream",
     "text": [
      "enter your marks: 95\n"
     ]
    },
    {
     "name": "stdout",
     "output_type": "stream",
     "text": [
      "grade A 95\n"
     ]
    }
   ],
   "source": [
    "marks=int(input(\"enter your marks:\")) \n",
    "if(marks>=90 and marks<=100):\n",
    "    print(\"grade A\",marks)\n",
    "elif(marks>=80 and marks<=89):\n",
    "    print(\"grade B\",marks)\n",
    "elif(marks>=70 and marks<79):\n",
    "    print(\"grade C\",marks)\n",
    "elif(marks>=60 and marks<=69):\n",
    "    print(\"grade D\",marks)\n",
    "else:\n",
    "    print(\"grade F\",marks)"
   ]
  },
  {
   "cell_type": "code",
   "execution_count": 63,
   "id": "9c8fb7e6-b6b6-4f59-b016-50c9f5527dc8",
   "metadata": {},
   "outputs": [],
   "source": [
    "#Q5 Write a program that checks if a given letter is a vowel (a, e, i, o, u) or a consonant."
   ]
  },
  {
   "cell_type": "code",
   "execution_count": 60,
   "id": "a9729fc3-290c-4d96-9893-81baa07c494e",
   "metadata": {},
   "outputs": [
    {
     "name": "stdin",
     "output_type": "stream",
     "text": [
      "enter the char: a\n"
     ]
    },
    {
     "name": "stdout",
     "output_type": "stream",
     "text": [
      "vowel\n"
     ]
    }
   ],
   "source": [
    "vowel=input(\"enter the char:\")\n",
    "if(vowel=='a' or vowel=='e' or vowel=='i' or vowel=='o' or vowel=='u'):\n",
    "    print(\"vowel\")\n",
    "else:\n",
    "    print(\"error\")"
   ]
  },
  {
   "cell_type": "code",
   "execution_count": null,
   "id": "a7d13812-6df1-467f-bad8-e2d09b7ef632",
   "metadata": {},
   "outputs": [],
   "source": [
    "#Q6 Write a basic calculator program that takes two numbers and an operator (+, -, *, /) as input and\n",
    "performs the specified operation. Print the result based on the operation."
   ]
  },
  {
   "cell_type": "code",
   "execution_count": 32,
   "id": "d9adc791-57c9-43b7-a5db-9e1b5c7a5b3a",
   "metadata": {},
   "outputs": [
    {
     "name": "stdin",
     "output_type": "stream",
     "text": [
      "enter the number : 1\n",
      "enter the number: 2\n"
     ]
    },
    {
     "name": "stdout",
     "output_type": "stream",
     "text": [
      "3\n"
     ]
    }
   ],
   "source": [
    "a=int(input(\"enter the number :\"))\n",
    "b=int(input(\"enter the number:\"))\n",
    "c=a+b\n",
    "print(c)"
   ]
  },
  {
   "cell_type": "code",
   "execution_count": null,
   "id": "ad7a68f1-6c3c-434c-b6a5-9144dee216e9",
   "metadata": {},
   "outputs": [],
   "source": [
    "#Q7 Write a program that takes a number as input and checks whether it is positive, negative, or zero."
   ]
  },
  {
   "cell_type": "code",
   "execution_count": 42,
   "id": "0ae89bbe-759f-44da-871f-41e27ea3ee72",
   "metadata": {},
   "outputs": [
    {
     "name": "stdin",
     "output_type": "stream",
     "text": [
      "Enter a number:  0\n"
     ]
    },
    {
     "name": "stdout",
     "output_type": "stream",
     "text": [
      "z\n"
     ]
    }
   ],
   "source": [
    "a= int(input(\"Enter a number: \"))\n",
    "if(a>0):\n",
    "    print(\"p\")\n",
    "elif(a<0):\n",
    "    print(\"n\")\n",
    "elif(a==0):\n",
    "    print(\"z\")\n",
    "          "
   ]
  },
  {
   "cell_type": "code",
   "execution_count": null,
   "id": "8037ce12-35dd-4687-a7d9-57af482efd15",
   "metadata": {},
   "outputs": [],
   "source": [
    "#Q8 Write a program that checks if a username and password entered by the user match the pre-set values\n",
    "username = \"admin\" and password = \"1234\". If both match, print \"Login Successful\", otherwise print\n",
    "\"Login Failed\"."
   ]
  },
  {
   "cell_type": "code",
   "execution_count": 51,
   "id": "bbc711f7-40eb-47ef-a589-359338d75753",
   "metadata": {},
   "outputs": [
    {
     "name": "stdin",
     "output_type": "stream",
     "text": [
      "enter the name: jay\n",
      "enter the number: 12345\n"
     ]
    },
    {
     "name": "stdout",
     "output_type": "stream",
     "text": [
      "log in succesfull\n"
     ]
    }
   ],
   "source": [
    "user=(input(\"enter the name:\"))\n",
    "password=int(input(\"enter the number:\"))\n",
    "if(user=='jay' and password==12345):\n",
    "    print(\"log in succesfull\")\n",
    "else:\n",
    "    print(\"error\")"
   ]
  },
  {
   "cell_type": "code",
   "execution_count": null,
   "id": "331214af-501a-426c-975a-5118106d34a5",
   "metadata": {},
   "outputs": [],
   "source": [
    "#Q9 Write a program that takes three sides of a triangle as input and checks if those sides form a valid triangle.\n",
    "A triangle is valid if the sum of any two sides is greater than the third side.\n",
    "Check conditions like a + b > c, b + c > a, and a + c > b."
   ]
  },
  {
   "cell_type": "code",
   "execution_count": 61,
   "id": "95dfe88c-35a7-45c8-9090-e65d848ab171",
   "metadata": {},
   "outputs": [
    {
     "name": "stdin",
     "output_type": "stream",
     "text": [
      "enter the number: 1\n",
      "enter the number: 2\n",
      "enter the number: 6\n"
     ]
    },
    {
     "name": "stdout",
     "output_type": "stream",
     "text": [
      "A triangle is valid\n"
     ]
    }
   ],
   "source": [
    "a=int(input(\"enter the number:\"))\n",
    "b=int(input(\"enter the number:\"))\n",
    "c=int(input(\"enter the number:\"))\n",
    "if(a + b > c or b + c > a or a + c > b):\n",
    "    print(\"A triangle is valid\")\n",
    "else:\n",
    "    print(\"not valid\")"
   ]
  },
  {
   "cell_type": "code",
   "execution_count": null,
   "id": "410da8cb-6cb2-4830-9f0e-c0db7323e9d1",
   "metadata": {},
   "outputs": [],
   "source": [
    "#Q10 Write a program that calculates the Body Mass Index (BMI) based on user input for weight (in\n",
    "kilograms) and height (in meters). Then categorize the BMI into:\n",
    "Underweight (BMI < 18.5)\n",
    "Normal weight (18.5 <= BMI < 24.9)\n",
    "Overweight (25 <= BMI < 29.9)\n",
    "Obesity (BMI >= 30)\n",
    "Use the formula: BMI = weight / (height ** 2)"
   ]
  },
  {
   "cell_type": "code",
   "execution_count": 57,
   "id": "f56f5592-0869-4888-a81d-140b252b6da4",
   "metadata": {},
   "outputs": [
    {
     "name": "stdin",
     "output_type": "stream",
     "text": [
      "enter the number: 93\n",
      "enter the number: 6.0\n"
     ]
    },
    {
     "name": "stdout",
     "output_type": "stream",
     "text": [
      "obesity\n"
     ]
    }
   ],
   "source": [
    "weight=float(input(\"enter the number:\"))\n",
    "height=float(input(\"enter the number:\"))\n",
    "\n",
    "BMI=weight/(height**2)\n",
    "\n",
    "if(BMI<18.5):\n",
    "    print(\"underweight\")\n",
    "elif(18.5 <= BMI < 24.9):\n",
    "    print(\"normal weight\")\n",
    "elif(25 <= BMI < 29.9):\n",
    "    print(\"over weight\")\n",
    "elif(BMI>=30):\n",
    "    print(\"obesity\")\n",
    "    "
   ]
  },
  {
   "cell_type": "code",
   "execution_count": 64,
   "id": "6e90979e-e05d-4766-9512-cc4a1b79678d",
   "metadata": {},
   "outputs": [
    {
     "ename": "SyntaxError",
     "evalue": "invalid syntax (1123699605.py, line 1)",
     "output_type": "error",
     "traceback": [
      "\u001b[1;36m  Cell \u001b[1;32mIn[64], line 1\u001b[1;36m\u001b[0m\n\u001b[1;33m    nested if\u001b[0m\n\u001b[1;37m             ^\u001b[0m\n\u001b[1;31mSyntaxError\u001b[0m\u001b[1;31m:\u001b[0m invalid syntax\n"
     ]
    }
   ],
   "source": [
    "#nested if"
   ]
  },
  {
   "cell_type": "code",
   "execution_count": null,
   "id": "5657cc49-c943-449b-a57e-3117ddb02c25",
   "metadata": {},
   "outputs": [],
   "source": []
  },
  {
   "cell_type": "code",
   "execution_count": null,
   "id": "b5dc0dfd-9499-4e85-a309-ff0548356638",
   "metadata": {},
   "outputs": [],
   "source": []
  }
 ],
 "metadata": {
  "kernelspec": {
   "display_name": "Python 3 (ipykernel)",
   "language": "python",
   "name": "python3"
  },
  "language_info": {
   "codemirror_mode": {
    "name": "ipython",
    "version": 3
   },
   "file_extension": ".py",
   "mimetype": "text/x-python",
   "name": "python",
   "nbconvert_exporter": "python",
   "pygments_lexer": "ipython3",
   "version": "3.12.7"
  }
 },
 "nbformat": 4,
 "nbformat_minor": 5
}
