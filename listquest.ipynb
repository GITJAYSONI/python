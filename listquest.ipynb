{
  "nbformat": 4,
  "nbformat_minor": 0,
  "metadata": {
    "colab": {
      "provenance": [],
      "authorship_tag": "ABX9TyPquOiw8eflA+hev3Zv1AH4",
      "include_colab_link": true
    },
    "kernelspec": {
      "name": "python3",
      "display_name": "Python 3"
    },
    "language_info": {
      "name": "python"
    }
  },
  "cells": [
    {
      "cell_type": "markdown",
      "metadata": {
        "id": "view-in-github",
        "colab_type": "text"
      },
      "source": [
        "<a href=\"https://colab.research.google.com/github/GITJAYSONI/python/blob/main/listquest.ipynb\" target=\"_parent\"><img src=\"https://colab.research.google.com/assets/colab-badge.svg\" alt=\"Open In Colab\"/></a>"
      ]
    },
    {
      "cell_type": "code",
      "execution_count": null,
      "metadata": {
        "id": "4mxLye5LR2YQ"
      },
      "outputs": [],
      "source": [
        "\n",
        "1. Write a Python program to find the maximum element in a list of numbers without\n",
        "max functions\n",
        "numbers = [10, 20, 4, 45, 99]\n",
        "The maximum element is: 99"
      ]
    },
    {
      "cell_type": "code",
      "source": [
        "numbers = [10, 20, 4, 45, 99]\n",
        "maxelement = numbers[0]\n",
        "\n",
        "for num in numbers:\n",
        "    if num > maxelement:\n",
        "        maxelement = num\n",
        "\n",
        "print(\"The maximum element is:\", maxelement)"
      ],
      "metadata": {
        "colab": {
          "base_uri": "https://localhost:8080/"
        },
        "id": "jRbNaQuOR6Lz",
        "outputId": "e82104fc-2aa7-44f2-86a1-e7a65887f56f"
      },
      "execution_count": null,
      "outputs": [
        {
          "output_type": "stream",
          "name": "stdout",
          "text": [
            "The maximum element is: 99\n"
          ]
        }
      ]
    },
    {
      "cell_type": "code",
      "source": [
        "2. Write a Python program to sum all the elements in a list of numbers.\n",
        "a. numbers = [10, 20, 30, 40]\n",
        "b. The sum of all elements is: 100"
      ],
      "metadata": {
        "id": "O1VIVVKNSGaL"
      },
      "execution_count": null,
      "outputs": []
    },
    {
      "cell_type": "code",
      "source": [
        "\n",
        "def count_char(str1,str2):\n",
        "  count=0\n",
        "  for char in str1:\n",
        "    if(char str2):\n",
        "      count+=1\n",
        "      return count\n",
        "str1=\"regexian\"\n",
        "str2=\"tushar\"\n",
        "  print(count_char(str1,str2)"
      ],
      "metadata": {
        "colab": {
          "base_uri": "https://localhost:8080/",
          "height": 106
        },
        "id": "GPVx3roAJl3p",
        "outputId": "c4111569-ace7-4ea4-d1c0-c015d1767152"
      },
      "execution_count": null,
      "outputs": [
        {
          "output_type": "error",
          "ename": "SyntaxError",
          "evalue": "invalid syntax. Perhaps you forgot a comma? (<ipython-input-1-c99161092492>, line 4)",
          "traceback": [
            "\u001b[0;36m  File \u001b[0;32m\"<ipython-input-1-c99161092492>\"\u001b[0;36m, line \u001b[0;32m4\u001b[0m\n\u001b[0;31m    if(char str2):\u001b[0m\n\u001b[0m       ^\u001b[0m\n\u001b[0;31mSyntaxError\u001b[0m\u001b[0;31m:\u001b[0m invalid syntax. Perhaps you forgot a comma?\n"
          ]
        }
      ]
    },
    {
      "cell_type": "code",
      "source": [
        "mylist=[10,20,30,10,20,50,40]\n",
        "count=0\n",
        "target=10\n",
        "for i in range(0,len(mylist)):\n",
        "  if(target==mylist[i]):\n",
        "    count+=1\n",
        "print(count)"
      ],
      "metadata": {
        "id": "f5Bnb_S0J_dY",
        "colab": {
          "base_uri": "https://localhost:8080/"
        },
        "outputId": "138fd90f-9913-4549-97b3-7978fe5c3cd8"
      },
      "execution_count": null,
      "outputs": [
        {
          "output_type": "stream",
          "name": "stdout",
          "text": [
            "2\n"
          ]
        }
      ]
    },
    {
      "cell_type": "code",
      "source": [
        "mylist=[10,20,30,40,20,10,]\n",
        "index=0\n",
        "end=len(mylist)-1\n",
        "while(index<end):\n",
        "  if(mylist[index] != mylist[end]):\n",
        "    a=5\n",
        "    break\n",
        "  index+=1\n",
        "  end-=1\n",
        "if(a==0):\n",
        "  print(\"palindrome\")\n",
        "else:\n",
        "  print(\"not palindrome\")"
      ],
      "metadata": {
        "colab": {
          "base_uri": "https://localhost:8080/"
        },
        "id": "lZEJtOCxRjv9",
        "outputId": "1a932f60-f3b1-488d-faf6-be7aa8e6f91b"
      },
      "execution_count": null,
      "outputs": [
        {
          "output_type": "stream",
          "name": "stdout",
          "text": [
            "not palindrome\n"
          ]
        }
      ]
    },
    {
      "cell_type": "code",
      "source": [
        "mylist=[\"mama\"]\n",
        "index=0\n",
        "end=len(mylist)-1\n",
        "a=0\n",
        "while(index<end):\n",
        "  if(mylist[index] != mylist[end]):\n",
        "    a=1\n",
        "    break\n",
        "  index+=1\n",
        "  end-=1\n",
        "  if(a==0):\n",
        "    print(\"palindrome\")\n",
        "  else:\n",
        "    print(\"not palindrome\")"
      ],
      "metadata": {
        "id": "RLgKTWdNToXf"
      },
      "execution_count": null,
      "outputs": []
    },
    {
      "cell_type": "code",
      "source": [
        "mylist = [\"mama\"]\n",
        "index = 0\n",
        "end = len(mylist) - 1\n",
        "a = 0\n",
        "\n",
        "while index < end:\n",
        "    if mylist[index] != mylist[end]:\n",
        "        a = 1\n",
        "        break\n",
        "    index += 1\n",
        "    end -= 1\n",
        "\n",
        "if a == 0:\n",
        "    print(\"palindrome\")\n",
        "else:\n",
        "    print(\"not palindrome\")"
      ],
      "metadata": {
        "colab": {
          "base_uri": "https://localhost:8080/"
        },
        "id": "KUuFCqgRYjbF",
        "outputId": "d14e54f0-0122-4de8-83d2-20d2592b9d1a"
      },
      "execution_count": null,
      "outputs": [
        {
          "output_type": "stream",
          "name": "stdout",
          "text": [
            "palindrome\n"
          ]
        }
      ]
    },
    {
      "cell_type": "code",
      "source": [
        "mylist=[10,20,30,40,50]\n",
        "start=0\n",
        "end=len(mylist)-1\n",
        "while start<end:\n",
        "  a=mylist[start]\n",
        "  mylist[start]=mylist[end]\n",
        "  mylist[end]=a\n",
        "  print(mylist[start],mylist[end])\n",
        "  start+=1\n",
        "  end-=1"
      ],
      "metadata": {
        "colab": {
          "base_uri": "https://localhost:8080/"
        },
        "id": "22jOY1xbY9Sw",
        "outputId": "49b178bc-b75c-4f54-8f86-c552188c529c"
      },
      "execution_count": null,
      "outputs": [
        {
          "output_type": "stream",
          "name": "stdout",
          "text": [
            "50 10\n",
            "40 20\n"
          ]
        }
      ]
    },
    {
      "cell_type": "code",
      "source": [
        "mylist=[10,20,30,40,50]\n",
        "start=0\n",
        "end=len(mylist)-1\n",
        "while start<end:\n",
        "  mylist[start],mylist[end]== mylist[end],mylist[start]\n",
        "   start+=1\n",
        "   end-=1"
      ],
      "metadata": {
        "colab": {
          "base_uri": "https://localhost:8080/",
          "height": 106
        },
        "id": "5EI3uv0eaSAg",
        "outputId": "ea1ff013-de39-4087-be45-af75cec160bb"
      },
      "execution_count": null,
      "outputs": [
        {
          "output_type": "error",
          "ename": "IndentationError",
          "evalue": "unexpected indent (<ipython-input-14-a1a4985d27e0>, line 6)",
          "traceback": [
            "\u001b[0;36m  File \u001b[0;32m\"<ipython-input-14-a1a4985d27e0>\"\u001b[0;36m, line \u001b[0;32m6\u001b[0m\n\u001b[0;31m    start+=1\u001b[0m\n\u001b[0m    ^\u001b[0m\n\u001b[0;31mIndentationError\u001b[0m\u001b[0;31m:\u001b[0m unexpected indent\n"
          ]
        }
      ]
    },
    {
      "cell_type": "code",
      "source": [
        "mylist = [10, 20, 30, 40, 50]\n",
        "start = 0\n",
        "end = len(mylist) - 1\n",
        "\n",
        "while start < end:\n",
        "    mylist[start], mylist[end] = mylist[end], mylist[start]\n",
        "    start += 1\n",
        "    end -= 1\n",
        "\n",
        "print(mylist)"
      ],
      "metadata": {
        "colab": {
          "base_uri": "https://localhost:8080/"
        },
        "id": "3cpCYJZ8bZwQ",
        "outputId": "6097aa49-2974-4e65-b217-b5f59174f8e7"
      },
      "execution_count": null,
      "outputs": [
        {
          "output_type": "stream",
          "name": "stdout",
          "text": [
            "[50, 40, 30, 20, 10]\n"
          ]
        }
      ]
    },
    {
      "cell_type": "code",
      "source": [
        "mylist = [10, 20, 30, 400, 50]\n",
        "max=mylist[0]\n",
        "for i in mylist:\n",
        "  if mylist:\n",
        "    max"
      ],
      "metadata": {
        "id": "7vE8sRsjblBm"
      },
      "execution_count": null,
      "outputs": []
    },
    {
      "cell_type": "markdown",
      "source": [],
      "metadata": {
        "id": "mmlwgkfz9veM"
      }
    },
    {
      "cell_type": "code",
      "source": [
        "mylist = [10, 20, 30, 400, 50]\n",
        "max1=mylist[0]\n",
        "smax=0\n",
        "for i in mylist:\n",
        "  if(i>max1):\n",
        "    smax=max1\n",
        "    max1=i\n",
        "    print(max1,smax)\n",
        "  elif(i>smax):\n",
        "    smax=i\n",
        "    print(\"second max>\",smax)"
      ],
      "metadata": {
        "colab": {
          "base_uri": "https://localhost:8080/"
        },
        "id": "SKFlsLlcdoOV",
        "outputId": "8e4a4f5a-3b07-417d-a125-8ce4c2ef9fc1"
      },
      "execution_count": null,
      "outputs": [
        {
          "output_type": "stream",
          "name": "stdout",
          "text": [
            "second max> 10\n",
            "20 10\n",
            "30 20\n",
            "400 30\n",
            "second max> 50\n"
          ]
        }
      ]
    },
    {
      "cell_type": "code",
      "source": [
        "mylist = [10, 20, 30, 400, 50]\n",
        "max1 = mylist[0]\n",
        "smax = 0\n",
        "for i in mylist:\n",
        "  if(i > max1):\n",
        "    smax = max1\n",
        "    max1 = i  # ← ✅ This line was missing\n",
        "  elif(i > smax and i!=max1):\n",
        "    smax = i\n",
        "    print(\"largest\",max1,\"second max>\", smax)\n"
      ],
      "metadata": {
        "colab": {
          "base_uri": "https://localhost:8080/"
        },
        "id": "j3owty-CBWLU",
        "outputId": "13dd79e5-6376-4169-96ed-65123592e588"
      },
      "execution_count": null,
      "outputs": [
        {
          "output_type": "stream",
          "name": "stdout",
          "text": [
            "largest 400 second max> 50\n"
          ]
        }
      ]
    },
    {
      "cell_type": "code",
      "source": [
        "#split\n",
        "s=\"hey hello tushar\"\n",
        "x=s.split(\"  \")\n",
        "print(x)"
      ],
      "metadata": {
        "colab": {
          "base_uri": "https://localhost:8080/"
        },
        "id": "8gMd4BxDewX3",
        "outputId": "e845a6cd-baaf-48f5-ad08-bfcbfeb4dcb4"
      },
      "execution_count": null,
      "outputs": [
        {
          "output_type": "stream",
          "name": "stdout",
          "text": [
            "['hey hello tushar']\n"
          ]
        }
      ]
    },
    {
      "cell_type": "code",
      "source": [
        "\"-\".join(x)"
      ],
      "metadata": {
        "colab": {
          "base_uri": "https://localhost:8080/",
          "height": 36
        },
        "id": "ItijtWZHgX6f",
        "outputId": "4ba9b6ab-db34-4759-9976-4eabfb6d881f"
      },
      "execution_count": null,
      "outputs": [
        {
          "output_type": "execute_result",
          "data": {
            "text/plain": [
              "'hey hello tushar'"
            ],
            "application/vnd.google.colaboratory.intrinsic+json": {
              "type": "string"
            }
          },
          "metadata": {},
          "execution_count": 22
        }
      ]
    },
    {
      "cell_type": "code",
      "source": [
        "33."
      ],
      "metadata": {
        "id": "AW2FK0jLgfT4",
        "colab": {
          "base_uri": "https://localhost:8080/"
        },
        "outputId": "a1fb1fa5-e4cd-412a-b687-43a4c37148d7"
      },
      "execution_count": null,
      "outputs": [
        {
          "output_type": "execute_result",
          "data": {
            "text/plain": [
              "33.0"
            ]
          },
          "metadata": {},
          "execution_count": 1
        }
      ]
    },
    {
      "cell_type": "code",
      "source": [
        "\n",
        "mydictionary={\"jay\":1,\"regex\":2}\n",
        "print(mydictionary)"
      ],
      "metadata": {
        "colab": {
          "base_uri": "https://localhost:8080/"
        },
        "id": "dQ2muhhvZyPl",
        "outputId": "3e61123d-f70e-4c12-cac7-4100b39791fc"
      },
      "execution_count": null,
      "outputs": [
        {
          "output_type": "stream",
          "name": "stdout",
          "text": [
            "{'jay': 1, 'regex': 2}\n"
          ]
        }
      ]
    },
    {
      "cell_type": "code",
      "source": [
        "mydictionary.keys()"
      ],
      "metadata": {
        "colab": {
          "base_uri": "https://localhost:8080/"
        },
        "id": "kLtgPomAcoJF",
        "outputId": "315fe8c3-94d0-41bb-e863-15d3d436dbd4"
      },
      "execution_count": null,
      "outputs": [
        {
          "output_type": "execute_result",
          "data": {
            "text/plain": [
              "dict_keys(['jay', 'regex'])"
            ]
          },
          "metadata": {},
          "execution_count": 3
        }
      ]
    },
    {
      "cell_type": "code",
      "source": [
        "mydictionary.values()"
      ],
      "metadata": {
        "colab": {
          "base_uri": "https://localhost:8080/"
        },
        "id": "24GtdRMmc5mG",
        "outputId": "2925e1cc-4d8d-4be9-da64-31f702e88755"
      },
      "execution_count": null,
      "outputs": [
        {
          "output_type": "execute_result",
          "data": {
            "text/plain": [
              "dict_values([1, 2])"
            ]
          },
          "metadata": {},
          "execution_count": 6
        }
      ]
    },
    {
      "cell_type": "code",
      "source": [
        "#items mathed returns list of tuple value\n",
        "mydictionary.items()"
      ],
      "metadata": {
        "colab": {
          "base_uri": "https://localhost:8080/"
        },
        "id": "1G71bL4Oc-jo",
        "outputId": "42716905-a1d6-4d54-b691-f2a16a5b5fa3"
      },
      "execution_count": null,
      "outputs": [
        {
          "output_type": "execute_result",
          "data": {
            "text/plain": [
              "dict_items([('jay', 1), ('regex', 2)])"
            ]
          },
          "metadata": {},
          "execution_count": 7
        }
      ]
    },
    {
      "cell_type": "code",
      "source": [
        "mylist=[('userid',19,('name',\"jay\"))]\n",
        "for i in mylist:\n",
        "  print(i)"
      ],
      "metadata": {
        "colab": {
          "base_uri": "https://localhost:8080/"
        },
        "id": "fa-UsWRHdZ8t",
        "outputId": "78d7d375-338f-4224-d2b3-b1908dd29b32"
      },
      "execution_count": null,
      "outputs": [
        {
          "output_type": "stream",
          "name": "stdout",
          "text": [
            "('userid', 19, ('name', 'jay'))\n"
          ]
        }
      ]
    },
    {
      "cell_type": "code",
      "source": [
        "#not in checks the key on not the value\n",
        "mydic={3:100}\n",
        "for i in range(1,5):\n",
        "  if i not in mydic:\n",
        "    mydic[i]=1\n",
        "print(mydic)"
      ],
      "metadata": {
        "colab": {
          "base_uri": "https://localhost:8080/"
        },
        "id": "Pu8wNKq-dqHa",
        "outputId": "0af237e5-97fd-40b7-e5bf-42edb53459dd"
      },
      "execution_count": null,
      "outputs": [
        {
          "output_type": "stream",
          "name": "stdout",
          "text": [
            "{3: 100, 1: 1, 2: 1, 4: 1}\n"
          ]
        }
      ]
    },
    {
      "cell_type": "code",
      "source": [
        "dic={\"salary\":100}\n",
        "dic['salary']=dic['salary']+5\n",
        "print(dic)"
      ],
      "metadata": {
        "colab": {
          "base_uri": "https://localhost:8080/"
        },
        "id": "VJDDO8LeeR_Y",
        "outputId": "dcdc0ed4-0b8e-4cb2-928f-1714eea41cea"
      },
      "execution_count": null,
      "outputs": [
        {
          "output_type": "stream",
          "name": "stdout",
          "text": [
            "{'salary': 105}\n"
          ]
        }
      ]
    },
    {
      "cell_type": "code",
      "source": [],
      "metadata": {
        "colab": {
          "base_uri": "https://localhost:8080/",
          "height": 193
        },
        "id": "lnx7k9iLgEf4",
        "outputId": "9bbc1391-648a-4c63-d2af-b74f7cd592fe"
      },
      "execution_count": null,
      "outputs": [
        {
          "output_type": "error",
          "ename": "KeyError",
          "evalue": "'count'",
          "traceback": [
            "\u001b[0;31m---------------------------------------------------------------------------\u001b[0m",
            "\u001b[0;31mKeyError\u001b[0m                                  Traceback (most recent call last)",
            "\u001b[0;32m<ipython-input-17-e3b3593877dd>\u001b[0m in \u001b[0;36m<cell line: 0>\u001b[0;34m()\u001b[0m\n\u001b[1;32m      1\u001b[0m \u001b[0mmydic\u001b[0m\u001b[0;34m=\u001b[0m\u001b[0;34m{\u001b[0m\u001b[0;34m\"count\"\u001b[0m\u001b[0;34m:\u001b[0m\u001b[0;36m1\u001b[0m\u001b[0;34m}\u001b[0m\u001b[0;34m\u001b[0m\u001b[0;34m\u001b[0m\u001b[0m\n\u001b[1;32m      2\u001b[0m \u001b[0;32mfor\u001b[0m \u001b[0mi\u001b[0m \u001b[0;32min\u001b[0m \u001b[0mrange\u001b[0m\u001b[0;34m(\u001b[0m\u001b[0;36m1\u001b[0m\u001b[0;34m,\u001b[0m\u001b[0;36m10\u001b[0m\u001b[0;34m)\u001b[0m\u001b[0;34m:\u001b[0m\u001b[0;34m\u001b[0m\u001b[0;34m\u001b[0m\u001b[0m\n\u001b[0;32m----> 3\u001b[0;31m   \u001b[0mmydic\u001b[0m\u001b[0;34m[\u001b[0m\u001b[0;34m\"count\"\u001b[0m\u001b[0;34m]\u001b[0m\u001b[0;34m=\u001b[0m\u001b[0mdic\u001b[0m\u001b[0;34m[\u001b[0m\u001b[0;34m\"count\"\u001b[0m\u001b[0;34m]\u001b[0m\u001b[0;34m+\u001b[0m\u001b[0;36m1\u001b[0m\u001b[0;34m\u001b[0m\u001b[0;34m\u001b[0m\u001b[0m\n\u001b[0m\u001b[1;32m      4\u001b[0m \u001b[0mprint\u001b[0m\u001b[0;34m(\u001b[0m\u001b[0mdic\u001b[0m\u001b[0;34m)\u001b[0m\u001b[0;34m\u001b[0m\u001b[0;34m\u001b[0m\u001b[0m\n",
            "\u001b[0;31mKeyError\u001b[0m: 'count'"
          ]
        }
      ]
    },
    {
      "cell_type": "code",
      "source": [
        "mydic = {\"count\": 1}\n",
        "\n",
        "for i in range(1, 10):\n",
        "    mydic[\"count\"] = mydic[\"count\"] + 1\n",
        "\n",
        "print(mydic)\n"
      ],
      "metadata": {
        "colab": {
          "base_uri": "https://localhost:8080/"
        },
        "id": "xTS3Zdu9g99q",
        "outputId": "02db5e5e-78d9-4fa9-c4de-7cdc2f824a2f"
      },
      "execution_count": null,
      "outputs": [
        {
          "output_type": "stream",
          "name": "stdout",
          "text": [
            "{'count': 10}\n"
          ]
        }
      ]
    },
    {
      "cell_type": "code",
      "source": [
        "s=\"tushar\"\n",
        "mydic={}\n",
        "for i in s:\n",
        "  mydic[i]=1\n",
        "print(mydic)"
      ],
      "metadata": {
        "colab": {
          "base_uri": "https://localhost:8080/"
        },
        "id": "abZBrCF3hT-_",
        "outputId": "8811c5fa-52ff-42b5-bbf3-cad95a929ddc"
      },
      "execution_count": null,
      "outputs": [
        {
          "output_type": "stream",
          "name": "stdout",
          "text": [
            "{'t': 1, 'u': 1, 's': 1, 'h': 1, 'a': 1, 'r': 1}\n"
          ]
        }
      ]
    },
    {
      "cell_type": "code",
      "source": [
        "#access on char\n",
        "s=\"tusharaaaa\"\n",
        "mydictionary={}\n",
        "for i in range(0,len(s)):\n",
        "  if(s[i] not in mydictionary):\n",
        "    mydictionary[s[i]]=1\n",
        "  else:\n",
        "    mydictionary[s[i]]=mydictionary[s[i]]+1\n",
        "print(mydictionary)"
      ],
      "metadata": {
        "colab": {
          "base_uri": "https://localhost:8080/"
        },
        "id": "uAKw_cH-hsVf",
        "outputId": "f28ff336-a4c9-44f8-91bd-1ddd31b47f60"
      },
      "execution_count": null,
      "outputs": [
        {
          "output_type": "stream",
          "name": "stdout",
          "text": [
            "{'t': 1, 'u': 1, 's': 1, 'h': 1, 'a': 5, 'r': 1}\n"
          ]
        }
      ]
    },
    {
      "cell_type": "code",
      "source": [
        "#.split()\n",
        "str1=\"hey hello tushar hey\"\n",
        "x = str1.split()\n",
        "mydic={}\n",
        "for i in x:\n",
        "  if (i not in mydic):\n",
        "    mydic[i]=1\n",
        "  else:\n",
        "    mydic[i]=mydic[i]+1\n",
        "print(mydic)"
      ],
      "metadata": {
        "colab": {
          "base_uri": "https://localhost:8080/"
        },
        "id": "hQcnZWSyi9Qu",
        "outputId": "32bb31ce-3be8-490f-adda-f93e539cda26"
      },
      "execution_count": null,
      "outputs": [
        {
          "output_type": "stream",
          "name": "stdout",
          "text": [
            "{'hey': 2, 'hello': 1, 'tushar': 1}\n"
          ]
        }
      ]
    },
    {
      "cell_type": "code",
      "source": [
        "mydict={'hey':2,'hello':1,'tushar':10}\n",
        "for i in mydict.items():\n",
        "  print(i,type(i),i[1])"
      ],
      "metadata": {
        "colab": {
          "base_uri": "https://localhost:8080/"
        },
        "id": "_nXWdkcIlmXt",
        "outputId": "4c742ed8-f995-4732-b840-51d8dea854d6"
      },
      "execution_count": null,
      "outputs": [
        {
          "output_type": "stream",
          "name": "stdout",
          "text": [
            "('hey', 2) <class 'tuple'> 2\n",
            "('hello', 1) <class 'tuple'> 1\n",
            "('tushar', 10) <class 'tuple'> 10\n"
          ]
        }
      ]
    },
    {
      "cell_type": "code",
      "source": [
        "# 10,20,30,10,10,20\n",
        "#  now i want to get frequ of each and every numbers"
      ],
      "metadata": {
        "id": "3Dg_FrL2n7iS"
      },
      "execution_count": null,
      "outputs": []
    },
    {
      "cell_type": "code",
      "source": [
        "mydict=['hey':2,'hello':1,'tushar':10]\n",
        "for i in mydict.value():\n",
        "  print(i,type(i),i[1])"
      ],
      "metadata": {
        "colab": {
          "base_uri": "https://localhost:8080/",
          "height": 106
        },
        "id": "2mi4mbWJoMZW",
        "outputId": "33cd5b0f-3b68-4243-8e64-aa1548d87487"
      },
      "execution_count": null,
      "outputs": [
        {
          "output_type": "error",
          "ename": "SyntaxError",
          "evalue": "invalid syntax (<ipython-input-39-2b0f5588afb8>, line 1)",
          "traceback": [
            "\u001b[0;36m  File \u001b[0;32m\"<ipython-input-39-2b0f5588afb8>\"\u001b[0;36m, line \u001b[0;32m1\u001b[0m\n\u001b[0;31m    mydict=['hey':2,'hello':1,'tushar':10]\u001b[0m\n\u001b[0m                 ^\u001b[0m\n\u001b[0;31mSyntaxError\u001b[0m\u001b[0;31m:\u001b[0m invalid syntax\n"
          ]
        }
      ]
    },
    {
      "cell_type": "code",
      "source": [
        "list=[10,20,30,10,10,20]\n",
        "dic={}\n",
        "for i in list:\n",
        "  if(i not in dic):\n",
        "    dic[i]=1\n",
        "  else:\n",
        "    dic[i]=dic[i]+1\n",
        "print(dic)"
      ],
      "metadata": {
        "colab": {
          "base_uri": "https://localhost:8080/"
        },
        "id": "CJO22IUpoexy",
        "outputId": "090be76b-0e39-4f77-cad9-3c7c0fa5db99"
      },
      "execution_count": null,
      "outputs": [
        {
          "output_type": "stream",
          "name": "stdout",
          "text": [
            "{10: 3, 20: 2, 30: 1}\n"
          ]
        }
      ]
    },
    {
      "cell_type": "code",
      "source": [
        "# sets\n",
        "# sets do not have index postion\n",
        "#{}\n",
        "# unique value i store\n",
        "#sets contain unique value\n",
        "# set contain only immutable\n",
        "#set khud mutable hota h\n",
        "#no index position"
      ],
      "metadata": {
        "id": "tvkrVJsEpVS1"
      },
      "execution_count": null,
      "outputs": []
    },
    {
      "cell_type": "code",
      "source": [
        "myset={1,2,3,4,5,6,2,2,2,2,2}\n",
        "myset.remove()"
      ],
      "metadata": {
        "colab": {
          "base_uri": "https://localhost:8080/",
          "height": 158
        },
        "id": "VGdEsOGlrDoW",
        "outputId": "a01f3fea-5948-4e87-8130-9bab7c111ac6"
      },
      "execution_count": null,
      "outputs": [
        {
          "output_type": "error",
          "ename": "TypeError",
          "evalue": "set.remove() takes exactly one argument (0 given)",
          "traceback": [
            "\u001b[0;31m---------------------------------------------------------------------------\u001b[0m",
            "\u001b[0;31mTypeError\u001b[0m                                 Traceback (most recent call last)",
            "\u001b[0;32m<ipython-input-42-7e335f0bc75e>\u001b[0m in \u001b[0;36m<cell line: 0>\u001b[0;34m()\u001b[0m\n\u001b[1;32m      1\u001b[0m \u001b[0mmyset\u001b[0m\u001b[0;34m=\u001b[0m\u001b[0;34m{\u001b[0m\u001b[0;36m1\u001b[0m\u001b[0;34m,\u001b[0m\u001b[0;36m2\u001b[0m\u001b[0;34m,\u001b[0m\u001b[0;36m3\u001b[0m\u001b[0;34m,\u001b[0m\u001b[0;36m4\u001b[0m\u001b[0;34m,\u001b[0m\u001b[0;36m5\u001b[0m\u001b[0;34m,\u001b[0m\u001b[0;36m6\u001b[0m\u001b[0;34m,\u001b[0m\u001b[0;36m2\u001b[0m\u001b[0;34m,\u001b[0m\u001b[0;36m2\u001b[0m\u001b[0;34m,\u001b[0m\u001b[0;36m2\u001b[0m\u001b[0;34m,\u001b[0m\u001b[0;36m2\u001b[0m\u001b[0;34m,\u001b[0m\u001b[0;36m2\u001b[0m\u001b[0;34m}\u001b[0m\u001b[0;34m\u001b[0m\u001b[0;34m\u001b[0m\u001b[0m\n\u001b[0;32m----> 2\u001b[0;31m \u001b[0mmyset\u001b[0m\u001b[0;34m.\u001b[0m\u001b[0mremove\u001b[0m\u001b[0;34m(\u001b[0m\u001b[0;34m)\u001b[0m\u001b[0;34m\u001b[0m\u001b[0;34m\u001b[0m\u001b[0m\n\u001b[0m",
            "\u001b[0;31mTypeError\u001b[0m: set.remove() takes exactly one argument (0 given)"
          ]
        }
      ]
    },
    {
      "cell_type": "code",
      "source": [],
      "metadata": {
        "colab": {
          "base_uri": "https://localhost:8080/",
          "height": 176
        },
        "id": "LJd_RSmhrogb",
        "outputId": "23534e5f-58fe-441b-fb62-200cbecd9145"
      },
      "execution_count": null,
      "outputs": [
        {
          "output_type": "error",
          "ename": "AttributeError",
          "evalue": "'list' object has no attribute 'update'",
          "traceback": [
            "\u001b[0;31m---------------------------------------------------------------------------\u001b[0m",
            "\u001b[0;31mAttributeError\u001b[0m                            Traceback (most recent call last)",
            "\u001b[0;32m<ipython-input-1-0a3082d2bb20>\u001b[0m in \u001b[0;36m<cell line: 0>\u001b[0;34m()\u001b[0m\n\u001b[1;32m      1\u001b[0m \u001b[0mlst\u001b[0m \u001b[0;34m=\u001b[0m \u001b[0;34m[\u001b[0m\u001b[0;36m0\u001b[0m\u001b[0;34m,\u001b[0m \u001b[0;36m1\u001b[0m\u001b[0;34m,\u001b[0m \u001b[0;36m2\u001b[0m\u001b[0;34m]\u001b[0m\u001b[0;34m\u001b[0m\u001b[0;34m\u001b[0m\u001b[0m\n\u001b[0;32m----> 2\u001b[0;31m \u001b[0mlst\u001b[0m\u001b[0;34m.\u001b[0m\u001b[0mupdate\u001b[0m\u001b[0;34m(\u001b[0m\u001b[0;34m[\u001b[0m\u001b[0;36m3\u001b[0m\u001b[0;34m,\u001b[0m \u001b[0;36m4\u001b[0m\u001b[0;34m,\u001b[0m \u001b[0;36m5\u001b[0m\u001b[0;34m]\u001b[0m\u001b[0;34m)\u001b[0m\u001b[0;34m\u001b[0m\u001b[0;34m\u001b[0m\u001b[0m\n\u001b[0m\u001b[1;32m      3\u001b[0m \u001b[0mprint\u001b[0m\u001b[0;34m(\u001b[0m\u001b[0mlst\u001b[0m\u001b[0;34m)\u001b[0m\u001b[0;34m\u001b[0m\u001b[0;34m\u001b[0m\u001b[0m\n",
            "\u001b[0;31mAttributeError\u001b[0m: 'list' object has no attribute 'update'"
          ]
        }
      ]
    },
    {
      "cell_type": "code",
      "source": [
        "#variable len argument and keyword variable\n",
        "def func(*x):\n",
        "  print(\"x=>\",x)"
      ],
      "metadata": {
        "id": "JHEPItTlRqkd"
      },
      "execution_count": null,
      "outputs": []
    },
    {
      "cell_type": "code",
      "source": [
        "func(age=10,salary=20)\n",
        "func()\n",
        "func(salary=2000,age=10,name=\"abc\")\n"
      ],
      "metadata": {
        "colab": {
          "base_uri": "https://localhost:8080/",
          "height": 176
        },
        "id": "JLqRJfPKuIy9",
        "outputId": "8cf69839-c0f6-44a3-8325-f72c399a5734"
      },
      "execution_count": null,
      "outputs": [
        {
          "output_type": "error",
          "ename": "TypeError",
          "evalue": "func() got an unexpected keyword argument 'age'",
          "traceback": [
            "\u001b[0;31m---------------------------------------------------------------------------\u001b[0m",
            "\u001b[0;31mTypeError\u001b[0m                                 Traceback (most recent call last)",
            "\u001b[0;32m<ipython-input-7-eeee0360d657>\u001b[0m in \u001b[0;36m<cell line: 0>\u001b[0;34m()\u001b[0m\n\u001b[0;32m----> 1\u001b[0;31m \u001b[0mfunc\u001b[0m\u001b[0;34m(\u001b[0m\u001b[0mage\u001b[0m\u001b[0;34m=\u001b[0m\u001b[0;36m10\u001b[0m\u001b[0;34m,\u001b[0m\u001b[0msalary\u001b[0m\u001b[0;34m=\u001b[0m\u001b[0;36m20\u001b[0m\u001b[0;34m)\u001b[0m\u001b[0;34m\u001b[0m\u001b[0;34m\u001b[0m\u001b[0m\n\u001b[0m\u001b[1;32m      2\u001b[0m \u001b[0mfunc\u001b[0m\u001b[0;34m(\u001b[0m\u001b[0;34m)\u001b[0m\u001b[0;34m\u001b[0m\u001b[0;34m\u001b[0m\u001b[0m\n\u001b[1;32m      3\u001b[0m \u001b[0mfunc\u001b[0m\u001b[0;34m(\u001b[0m\u001b[0msalary\u001b[0m\u001b[0;34m=\u001b[0m\u001b[0;36m2000\u001b[0m\u001b[0;34m,\u001b[0m\u001b[0mage\u001b[0m\u001b[0;34m=\u001b[0m\u001b[0;36m10\u001b[0m\u001b[0;34m,\u001b[0m\u001b[0mname\u001b[0m\u001b[0;34m=\u001b[0m\u001b[0;34m\"abc\"\u001b[0m\u001b[0;34m)\u001b[0m\u001b[0;34m\u001b[0m\u001b[0;34m\u001b[0m\u001b[0m\n",
            "\u001b[0;31mTypeError\u001b[0m: func() got an unexpected keyword argument 'age'"
          ]
        }
      ]
    },
    {
      "cell_type": "code",
      "source": [
        "#key word\n",
        "func(age=23,salary=2000)"
      ],
      "metadata": {
        "colab": {
          "base_uri": "https://localhost:8080/",
          "height": 158
        },
        "id": "wbJE7PnfuP-u",
        "outputId": "d5fe0d55-c08e-4c47-977a-cbd097471f27"
      },
      "execution_count": null,
      "outputs": [
        {
          "output_type": "error",
          "ename": "TypeError",
          "evalue": "func() got an unexpected keyword argument 'age'",
          "traceback": [
            "\u001b[0;31m---------------------------------------------------------------------------\u001b[0m",
            "\u001b[0;31mTypeError\u001b[0m                                 Traceback (most recent call last)",
            "\u001b[0;32m<ipython-input-5-4d8b3e28701a>\u001b[0m in \u001b[0;36m<cell line: 0>\u001b[0;34m()\u001b[0m\n\u001b[1;32m      1\u001b[0m \u001b[0;31m#key word\u001b[0m\u001b[0;34m\u001b[0m\u001b[0;34m\u001b[0m\u001b[0m\n\u001b[0;32m----> 2\u001b[0;31m \u001b[0mfunc\u001b[0m\u001b[0;34m(\u001b[0m\u001b[0mage\u001b[0m\u001b[0;34m=\u001b[0m\u001b[0;36m23\u001b[0m\u001b[0;34m,\u001b[0m\u001b[0msalary\u001b[0m\u001b[0;34m=\u001b[0m\u001b[0;36m2000\u001b[0m\u001b[0;34m)\u001b[0m\u001b[0;34m\u001b[0m\u001b[0;34m\u001b[0m\u001b[0m\n\u001b[0m",
            "\u001b[0;31mTypeError\u001b[0m: func() got an unexpected keyword argument 'age'"
          ]
        }
      ]
    },
    {
      "cell_type": "code",
      "source": [
        "def func(**kwargs):\n",
        "  print(\"x=>\",kwargs,type(kwargs))"
      ],
      "metadata": {
        "id": "1zroggYhu407"
      },
      "execution_count": null,
      "outputs": []
    },
    {
      "cell_type": "code",
      "source": [
        "func(age=10,salary=2000)\n",
        "func()"
      ],
      "metadata": {
        "colab": {
          "base_uri": "https://localhost:8080/"
        },
        "id": "gMNPH4nQvmUO",
        "outputId": "4e62b47c-3edd-4884-be25-d7f98dcedbb8"
      },
      "execution_count": null,
      "outputs": [
        {
          "output_type": "stream",
          "name": "stdout",
          "text": [
            "x=> {'age': 10, 'salary': 2000} <class 'dict'>\n",
            "x=> {} <class 'dict'>\n"
          ]
        }
      ]
    },
    {
      "cell_type": "code",
      "source": [
        "#return key word"
      ],
      "metadata": {
        "id": "C9mHANdrvqSo"
      },
      "execution_count": null,
      "outputs": []
    },
    {
      "cell_type": "code",
      "source": [
        "def func(x):\n",
        "    print(\"out=>\")\n",
        "  return x + 10"
      ],
      "metadata": {
        "colab": {
          "base_uri": "https://localhost:8080/",
          "height": 106
        },
        "id": "0u9FKa4IvwVE",
        "outputId": "6cbcf78d-305f-4d94-dc95-66218081a2c0"
      },
      "execution_count": null,
      "outputs": [
        {
          "output_type": "error",
          "ename": "IndentationError",
          "evalue": "unindent does not match any outer indentation level (<tokenize>, line 3)",
          "traceback": [
            "\u001b[0;36m  File \u001b[0;32m\"<tokenize>\"\u001b[0;36m, line \u001b[0;32m3\u001b[0m\n\u001b[0;31m    return x + 10\u001b[0m\n\u001b[0m    ^\u001b[0m\n\u001b[0;31mIndentationError\u001b[0m\u001b[0;31m:\u001b[0m unindent does not match any outer indentation level\n"
          ]
        }
      ]
    },
    {
      "cell_type": "code",
      "source": [
        "out=func(1000)\n",
        "print(\"output\",out)\n"
      ],
      "metadata": {
        "colab": {
          "base_uri": "https://localhost:8080/"
        },
        "id": "TgZ8eRHlwzwf",
        "outputId": "49a18fbd-2ce8-4689-9d41-288da303877d"
      },
      "execution_count": null,
      "outputs": [
        {
          "output_type": "stream",
          "name": "stdout",
          "text": [
            "out=> 1010\n",
            "output 1010\n"
          ]
        }
      ]
    },
    {
      "cell_type": "code",
      "source": [
        "def add(x,y):\n",
        "  print()"
      ],
      "metadata": {
        "id": "tdPEFIbAyUlk"
      },
      "execution_count": null,
      "outputs": []
    },
    {
      "cell_type": "code",
      "source": [
        "out=add(10,20)\n",
        "print(out)"
      ],
      "metadata": {
        "id": "G-JlDeBi0ODk"
      },
      "execution_count": null,
      "outputs": []
    },
    {
      "cell_type": "code",
      "source": [
        "# #first class function\n",
        "# design Pattern\n",
        "# variable\n",
        "# function as a Argument\n",
        "# function if a function is return\n",
        "# function  in data structure"
      ],
      "metadata": {
        "id": "Eutuh20Ezu7g"
      },
      "execution_count": null,
      "outputs": []
    },
    {
      "cell_type": "code",
      "source": [
        "def func():\n",
        "  print(\"hello\")"
      ],
      "metadata": {
        "id": "CsHYilZmzxzR"
      },
      "execution_count": null,
      "outputs": []
    },
    {
      "cell_type": "code",
      "source": [
        "x=func()\n",
        "func()\n"
      ],
      "metadata": {
        "colab": {
          "base_uri": "https://localhost:8080/"
        },
        "id": "a3t9ZFxq1PNX",
        "outputId": "a67f29c4-bf25-4047-d04a-3075f059fb2b"
      },
      "execution_count": null,
      "outputs": [
        {
          "output_type": "stream",
          "name": "stdout",
          "text": [
            "hello\n",
            "hello\n"
          ]
        }
      ]
    },
    {
      "cell_type": "code",
      "source": [
        "def add_two(x,y):\n",
        "  print(x+y)"
      ],
      "metadata": {
        "id": "sstO4eHs1dpI"
      },
      "execution_count": null,
      "outputs": []
    },
    {
      "cell_type": "code",
      "source": [
        "out=add_two(10,20)\n",
        "print(out)"
      ],
      "metadata": {
        "colab": {
          "base_uri": "https://localhost:8080/"
        },
        "id": "i-8CEKkR18Lu",
        "outputId": "8114d60a-df88-40ba-be86-c4ef0979e2ca"
      },
      "execution_count": null,
      "outputs": [
        {
          "output_type": "stream",
          "name": "stdout",
          "text": [
            "30\n",
            "30\n"
          ]
        }
      ]
    },
    {
      "cell_type": "code",
      "source": [
        "def add_two(x,y):\n",
        "  return(x+y)\n",
        "def three_num(a,b):\n",
        "    print(\"total=>\",a+b(2,3))\n",
        "\n",
        "three_num(10,add_two)"
      ],
      "metadata": {
        "colab": {
          "base_uri": "https://localhost:8080/"
        },
        "id": "33JP4HrY1-o9",
        "outputId": "f4ea1d6c-6fc5-4c1d-c9df-3f9ab1a6599c"
      },
      "execution_count": null,
      "outputs": [
        {
          "output_type": "stream",
          "name": "stdout",
          "text": [
            "total=> 15\n"
          ]
        }
      ]
    },
    {
      "cell_type": "code",
      "source": [
        "#saare first class fun high order hota but saare high order fun nhi hota"
      ],
      "metadata": {
        "id": "Dq2IropA3LY5"
      },
      "execution_count": null,
      "outputs": []
    },
    {
      "cell_type": "code",
      "source": [
        "def jimmy(x,y,z):\n",
        "  return(x+y-z)\n",
        "def jacky(x,y,z):\n",
        "  print(\"total=>\",a+b-c(10,20,5))\n",
        "three 3"
      ],
      "metadata": {
        "id": "T_hMdYW_5MGC"
      },
      "execution_count": null,
      "outputs": []
    },
    {
      "cell_type": "code",
      "source": [
        "l=[1,2,30]\n",
        "print(id(l))\n",
        "print(id(l[0]))\n",
        "print(id(l[1]))\n",
        "print(id(l[2]))\n",
        "print(\"----------------------------\")\n",
        "print(id(1))\n",
        "print(id(2))\n",
        "print(id(30))"
      ],
      "metadata": {
        "id": "yH4QLPgX5j38",
        "colab": {
          "base_uri": "https://localhost:8080/"
        },
        "outputId": "b869dad3-597b-4dbb-d396-5ad622132f1b"
      },
      "execution_count": null,
      "outputs": [
        {
          "output_type": "stream",
          "name": "stdout",
          "text": [
            "138147355277504\n",
            "10750856\n",
            "10750888\n",
            "10751784\n",
            "----------------------------\n",
            "10750856\n",
            "10750888\n",
            "10751784\n"
          ]
        }
      ]
    },
    {
      "cell_type": "code",
      "source": [],
      "metadata": {
        "id": "OM46O9df5dMV"
      },
      "execution_count": null,
      "outputs": []
    }
  ]
}