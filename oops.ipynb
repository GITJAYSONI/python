{
  "nbformat": 4,
  "nbformat_minor": 0,
  "metadata": {
    "colab": {
      "provenance": [],
      "authorship_tag": "ABX9TyMT4Gv+OwMw5ObhSAAfm02m",
      "include_colab_link": true
    },
    "kernelspec": {
      "name": "python3",
      "display_name": "Python 3"
    },
    "language_info": {
      "name": "python"
    }
  },
  "cells": [
    {
      "cell_type": "markdown",
      "metadata": {
        "id": "view-in-github",
        "colab_type": "text"
      },
      "source": [
        "<a href=\"https://colab.research.google.com/github/GITJAYSONI/python/blob/main/oops.ipynb\" target=\"_parent\"><img src=\"https://colab.research.google.com/assets/colab-badge.svg\" alt=\"Open In Colab\"/></a>"
      ]
    },
    {
      "cell_type": "code",
      "execution_count": null,
      "metadata": {
        "id": "kOM4v7DeCZU8"
      },
      "outputs": [],
      "source": [
        "# oops\n",
        "# object oriented programing system\n",
        "# object=> real time entity=> char and behaviour\n",
        "# object\n",
        "# class: its a blueprint for an object\n",
        "# class:\n",
        "#opps is like an tamplate\n",
        "# 111111fumction vs method\n"
      ]
    },
    {
      "cell_type": "code",
      "source": [
        "class housedesgin:\n",
        "  color=\"white\"\n",
        "  room=4\n",
        "  def rent (self):\n",
        "    print(\"house will be for rent\")"
      ],
      "metadata": {
        "id": "jp0dmwzHGyX3"
      },
      "execution_count": null,
      "outputs": []
    },
    {
      "cell_type": "code",
      "source": [
        "h1=housedesgin()\n",
        "#h1 is object/instance\n",
        "print(h1.color , h1.room)\n",
        "h1.rent()"
      ],
      "metadata": {
        "colab": {
          "base_uri": "https://localhost:8080/"
        },
        "id": "RVU2DasvHHLE",
        "outputId": "3b4282be-8d00-4b65-ea0b-98b55058d066"
      },
      "execution_count": null,
      "outputs": [
        {
          "output_type": "stream",
          "name": "stdout",
          "text": [
            "white 4\n",
            "house will be for rent\n"
          ]
        }
      ]
    },
    {
      "cell_type": "code",
      "source": [
        "class housedesgin:\n",
        "  color=\"white\"\n",
        "  room=4"
      ],
      "metadata": {
        "id": "rNnSx1yaHirF"
      },
      "execution_count": null,
      "outputs": []
    },
    {
      "cell_type": "code",
      "source": [
        "h1=housedesgin()\n",
        "print(h1.color)\n",
        "h1.color=\"green\"\n",
        "print(h1.color,)"
      ],
      "metadata": {
        "colab": {
          "base_uri": "https://localhost:8080/"
        },
        "id": "oA9Jo02bIsIQ",
        "outputId": "36aed266-a79c-4ecd-997a-cb678028142b"
      },
      "execution_count": null,
      "outputs": [
        {
          "output_type": "stream",
          "name": "stdout",
          "text": [
            "white\n",
            "green\n"
          ]
        }
      ]
    },
    {
      "cell_type": "code",
      "source": [
        "class housedesgin:\n",
        "  color=\"white\"\n",
        "  room=4\n",
        "  #color and room is class veriable => agar changes class mea change ho ga to pura code mea affect ho ga"
      ],
      "metadata": {
        "id": "GRm3CHkeI23b"
      },
      "execution_count": null,
      "outputs": []
    },
    {
      "cell_type": "code",
      "source": [
        "h1=housedesgin()\n",
        "print(h1.color)\n",
        "housedesgin.color=\"red\"\n",
        "print(h1.color)"
      ],
      "metadata": {
        "colab": {
          "base_uri": "https://localhost:8080/"
        },
        "id": "cCQh37TPJXyI",
        "outputId": "7cd9a531-6580-4647-a06c-0dd67296dc62"
      },
      "execution_count": null,
      "outputs": [
        {
          "output_type": "stream",
          "name": "stdout",
          "text": [
            "red\n",
            "red\n"
          ]
        }
      ]
    },
    {
      "cell_type": "code",
      "source": [
        "# constructor: function it like raju\n",
        "# used to initialize memory for an object\n",
        "# default and parameterized\n",
        "\n",
        "\n",
        "#syntax(def__init__(self):)\n",
        "class HouseDesign:\n",
        "    def __init__(self,x,y):\n",
        "      self.color=x\n",
        "      self.room=y\n",
        "      print(\"constructor\",self.color)\n",
        "    #constructor is used to ins value of object"
      ],
      "metadata": {
        "id": "15WNd49SJvHb"
      },
      "execution_count": null,
      "outputs": []
    },
    {
      "cell_type": "code",
      "source": [
        "h1=HouseDesign(\"red\",5)\n",
        "print(h1.color,)\n",
        "#self is a variable that access the current object"
      ],
      "metadata": {
        "colab": {
          "base_uri": "https://localhost:8080/"
        },
        "id": "b1lp-5axJ4tA",
        "outputId": "ed0bca12-4c44-4361-86d5-2b8aa5ba0cf4"
      },
      "execution_count": null,
      "outputs": [
        {
          "output_type": "stream",
          "name": "stdout",
          "text": [
            "constructor red\n"
          ]
        }
      ]
    },
    {
      "cell_type": "code",
      "source": [
        "h2=HouseDesign(\"blue\",4)"
      ],
      "metadata": {
        "colab": {
          "base_uri": "https://localhost:8080/"
        },
        "id": "V8LLecG7Lwg2",
        "outputId": "69953cc2-2242-43c3-f8fc-5f8e540ddc10"
      },
      "execution_count": null,
      "outputs": [
        {
          "output_type": "stream",
          "name": "stdout",
          "text": [
            "constructor blue\n"
          ]
        }
      ]
    },
    {
      "cell_type": "code",
      "source": [
        "class HouseDesign:\n",
        "    def __init__(self,x,y):\n",
        "      self.color=x\n",
        "      self.room=y\n",
        "    def info(self):\n",
        "      print(f\"house has {self.color} and room is {self.room}\")"
      ],
      "metadata": {
        "id": "Zkf1h-cYOgde"
      },
      "execution_count": null,
      "outputs": []
    },
    {
      "cell_type": "code",
      "source": [
        "h1=HouseDesign(\"yello\",5)\n",
        "h1.info()"
      ],
      "metadata": {
        "colab": {
          "base_uri": "https://localhost:8080/"
        },
        "id": "o-L6aHm2QC1j",
        "outputId": "c5c48fd7-5d9e-484d-ea16-f3f1af9af36f"
      },
      "execution_count": null,
      "outputs": [
        {
          "output_type": "stream",
          "name": "stdout",
          "text": [
            "house has yello and room is 5\n"
          ]
        }
      ]
    },
    {
      "cell_type": "code",
      "source": [
        "h2=HouseDesign(\"blue\",4)\n",
        "h2.info()"
      ],
      "metadata": {
        "colab": {
          "base_uri": "https://localhost:8080/"
        },
        "id": "3SO1l5zFQKAQ",
        "outputId": "d32faa31-b25f-45e4-8219-6857fa9edc04"
      },
      "execution_count": null,
      "outputs": [
        {
          "output_type": "stream",
          "name": "stdout",
          "text": [
            "house has blue and room is 4\n"
          ]
        }
      ]
    },
    {
      "cell_type": "code",
      "source": [
        "# inheritance\n",
        "# type of inheritance and class variable and instance variable"
      ],
      "metadata": {
        "id": "KQUvkWekQPRz"
      },
      "execution_count": null,
      "outputs": []
    },
    {
      "cell_type": "code",
      "source": [],
      "metadata": {
        "id": "yYe8DhejwPgy"
      },
      "execution_count": null,
      "outputs": []
    },
    {
      "cell_type": "code",
      "source": [],
      "metadata": {
        "id": "fH-OwnoRwRWB"
      },
      "execution_count": null,
      "outputs": []
    },
    {
      "cell_type": "code",
      "source": [
        "class Employee:\n",
        "  def __init__(self,name,salary):\n",
        "    self.name=name\n",
        "    self.__salary=salary\n",
        "  def getinfo(self):\n",
        "    print(f\"name is {self.name} and salary is {self.__salary}\")\n",
        "a=Employee(\"raju\",50000)\n",
        "a.getinfo()\n",
        "print(a.name)"
      ],
      "metadata": {
        "colab": {
          "base_uri": "https://localhost:8080/"
        },
        "id": "EfhQUUl3wRSi",
        "outputId": "2f974887-ffc5-411a-9cb5-2dbe4c8095e4"
      },
      "execution_count": null,
      "outputs": [
        {
          "output_type": "stream",
          "name": "stdout",
          "text": [
            "name is raju and salary is 50000\n",
            "raju\n"
          ]
        }
      ]
    },
    {
      "cell_type": "code",
      "source": [
        "class BankAccount:\n",
        "  def __init__(self,name,balance):\n",
        "    self.name=name\n",
        "    self.__balance=balance\n",
        "  def get_account_holder(self,amount):\n",
        "    return self.__account_holder\n",
        "  def get_balance(self):\n",
        "    return self.__balance\n",
        "  def deposit(self,amount):\n",
        "    if(amount>0):\n",
        "      self.__balance+=amount\n",
        "      return(f\"deposited {amount} new balance is {self.__balance}\")\n",
        "    else:\n",
        "      return(\"invalid amount\")\n"
      ],
      "metadata": {
        "id": "HFrHMVDx01Od"
      },
      "execution_count": null,
      "outputs": []
    },
    {
      "cell_type": "code",
      "source": [
        "class BankAccount:\n",
        "    def __init__(self, name, balance):\n",
        "        self.name = name\n",
        "        self.__balance = balance\n",
        "\n",
        "    def get_account_holder(self):\n",
        "        return self.name\n",
        "\n",
        "    def get_balance(self):\n",
        "        return self.__balance\n",
        "\n",
        "    def deposit(self, amount):\n",
        "        if amount > 0:\n",
        "            self.__balance += amount\n",
        "            return f\"Deposited {amount}, new balance is {self.__balance}\"\n",
        "        else:\n",
        "            return \"Invalid amount\""
      ],
      "metadata": {
        "id": "kHdELiCX4d9A"
      },
      "execution_count": null,
      "outputs": []
    },
    {
      "cell_type": "code",
      "source": [
        "acc = BankAccount(\"Raju\", 1000)\n",
        "print(acc.get_account_holder())\n",
        "print(acc.get_balance())\n",
        "print(acc.deposit(500))\n"
      ],
      "metadata": {
        "colab": {
          "base_uri": "https://localhost:8080/"
        },
        "id": "eBCv3WKe4vqa",
        "outputId": "53c73342-06c1-4c87-8a9a-a1bb39385563"
      },
      "execution_count": null,
      "outputs": [
        {
          "output_type": "stream",
          "name": "stdout",
          "text": [
            "Raju\n",
            "1000\n",
            "Deposited 500, new balance is 1500\n"
          ]
        }
      ]
    },
    {
      "cell_type": "code",
      "source": [
        "acc.__balance"
      ],
      "metadata": {
        "colab": {
          "base_uri": "https://localhost:8080/",
          "height": 141
        },
        "id": "FP8SL9PI5B6e",
        "outputId": "47992568-e044-4a8b-d0b4-e8323efa0106"
      },
      "execution_count": null,
      "outputs": [
        {
          "output_type": "error",
          "ename": "AttributeError",
          "evalue": "'BankAccount' object has no attribute '__balance'",
          "traceback": [
            "\u001b[0;31m---------------------------------------------------------------------------\u001b[0m",
            "\u001b[0;31mAttributeError\u001b[0m                            Traceback (most recent call last)",
            "\u001b[0;32m<ipython-input-11-715ff34df1c5>\u001b[0m in \u001b[0;36m<cell line: 0>\u001b[0;34m()\u001b[0m\n\u001b[0;32m----> 1\u001b[0;31m \u001b[0macc\u001b[0m\u001b[0;34m.\u001b[0m\u001b[0m__balance\u001b[0m\u001b[0;34m\u001b[0m\u001b[0;34m\u001b[0m\u001b[0m\n\u001b[0m",
            "\u001b[0;31mAttributeError\u001b[0m: 'BankAccount' object has no attribute '__balance'"
          ]
        }
      ]
    },
    {
      "cell_type": "code",
      "source": [
        "#student data"
      ],
      "metadata": {
        "id": "KVraus4n5uFr"
      },
      "execution_count": null,
      "outputs": []
    },
    {
      "cell_type": "code",
      "source": [
        "class Student:\n",
        "  def __init__(self,name,grade):\n",
        "    self.name=name\n",
        "    self.__grade=grade\n",
        "  def get_grade(self):\n",
        "    return self.__grade\n",
        "  def set_grade(self,new_grade):\n",
        "    if 0<=new_grade<=100:\n",
        "      self.__grade=new_grade\n",
        "      return \"grade updated\"\n",
        "    else:\n",
        "      return \"invalid grade\"\n"
      ],
      "metadata": {
        "id": "MOR72yVK6m5F"
      },
      "execution_count": null,
      "outputs": []
    },
    {
      "cell_type": "code",
      "source": [
        "student=Student(\"jimmy\",45)\n",
        "print(student.get_grade())\n",
        "print(student.set_grade(85))\n",
        "print(student.get_grade())"
      ],
      "metadata": {
        "colab": {
          "base_uri": "https://localhost:8080/"
        },
        "id": "tVTFMdG_7ueQ",
        "outputId": "4544404a-fa7d-4173-d7a3-3e92d5dcf342"
      },
      "execution_count": null,
      "outputs": [
        {
          "output_type": "stream",
          "name": "stdout",
          "text": [
            "45\n",
            "grade updated\n",
            "85\n"
          ]
        }
      ]
    },
    {
      "cell_type": "code",
      "source": [
        "class Patient:\n",
        "    def __init__(self, name, age):\n",
        "        self.__name = name\n",
        "        self.__age = age\n",
        "        self.__medical_history = []\n",
        "\n",
        "    def add_medical_record(self, record):\n",
        "        self.__medical_history.append(record)  # Fixed typo here\n",
        "        return f\"Medical record added for {self.__name}\"\n",
        "\n",
        "    def get_medical_history(self):\n",
        "        return f\"Medical history for {self.__name}: {self.__medical_history}\"\n",
        "\n",
        "\n",
        "patient = Patient(\"rohit\", 30)\n",
        "print(patient.add_medical_record(\"flu\"))\n",
        "print(patient.get_medical_history())  # Added parentheses here\n"
      ],
      "metadata": {
        "colab": {
          "base_uri": "https://localhost:8080/"
        },
        "id": "kPC3633Y775V",
        "outputId": "37ba8323-e4c3-4fdc-f2d2-4756ba0769c3"
      },
      "execution_count": null,
      "outputs": [
        {
          "output_type": "stream",
          "name": "stdout",
          "text": [
            "Medical record added for rohit\n",
            "Medical history for rohit: ['flu']\n"
          ]
        }
      ]
    },
    {
      "cell_type": "code",
      "source": [
        " #class= class is a blueprint\n",
        "#object==variable"
      ],
      "metadata": {
        "id": "MtSSCCpX_6rF"
      },
      "execution_count": 1,
      "outputs": []
    },
    {
      "cell_type": "code",
      "source": [
        "a=2\n",
        "type(a)"
      ],
      "metadata": {
        "colab": {
          "base_uri": "https://localhost:8080/"
        },
        "id": "-0sfFbK_mHxZ",
        "outputId": "030fc313-2bf6-4e13-a32c-259df880f674"
      },
      "execution_count": 2,
      "outputs": [
        {
          "output_type": "execute_result",
          "data": {
            "text/plain": [
              "int"
            ]
          },
          "metadata": {},
          "execution_count": 2
        }
      ]
    },
    {
      "cell_type": "code",
      "source": [
        "Class Car:\n",
        "  color= blue #data\n"
      ],
      "metadata": {
        "id": "QfJ-vQUJmLNM"
      },
      "execution_count": null,
      "outputs": []
    }
  ]
}